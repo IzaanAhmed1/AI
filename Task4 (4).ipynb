{
  "nbformat": 4,
  "nbformat_minor": 0,
  "metadata": {
    "colab": {
      "provenance": []
    },
    "kernelspec": {
      "name": "python3",
      "display_name": "Python 3"
    },
    "language_info": {
      "name": "python"
    }
  },
  "cells": [
    {
      "cell_type": "code",
      "execution_count": null,
      "metadata": {
        "colab": {
          "base_uri": "https://localhost:8080/"
        },
        "id": "vV8GKjpImhq1",
        "outputId": "a8d5f393-a3ed-44cd-a5e3-fd15e4804f38"
      },
      "outputs": [
        {
          "output_type": "stream",
          "name": "stdout",
          "text": [
            "Enter the last digit of your CNIC: 5\n",
            "Menu:\n",
            "1. Hexagon\n",
            "2. Square\n",
            "Any other key to exit\n",
            "Enter your choice: 2\n",
            "Square:\n",
            "Area: 36\n",
            "Perimeter: 24\n",
            "Menu:\n",
            "1. Hexagon\n",
            "2. Square\n",
            "Any other key to exit\n"
          ]
        }
      ],
      "source": [
        "import math\n",
        "\n",
        "def calc_hexagon_area(side_length):\n",
        "    return 1.5 * 1.732 * side_length**2\n",
        "\n",
        "def calc_hexagon_perimeter(side_length):\n",
        "    return 6 * side_length\n",
        "\n",
        "def calc_hexagon_angle_sum():\n",
        "    return 6 * 120\n",
        "\n",
        "def display_hexagon(side_length):\n",
        "    print(\"Hexagon:\")\n",
        "    print(\"Area:\", calc_hexagon_area(side_length))\n",
        "    print(\"Perimeter:\", calc_hexagon_perimeter(side_length))\n",
        "    print(\"Sum of Angles:\", calc_hexagon_angle_sum())\n",
        "\n",
        "def calc_square_area(side_length):\n",
        "    return side_length**2\n",
        "\n",
        "def calc_square_perimeter(side_length):\n",
        "    return 4 * side_length\n",
        "\n",
        "def display_square(side_length):\n",
        "    print(\"Square:\")\n",
        "    print(\"Area:\", calc_square_area(side_length))\n",
        "    print(\"Perimeter:\", calc_square_perimeter(side_length))\n",
        "\n",
        "def main():\n",
        "    cnic_last_digit = int(input(\"Enter the last digit of your CNIC: \"))\n",
        "    square_side_length = cnic_last_digit + 1\n",
        "    hexagon_side_length = cnic_last_digit\n",
        "\n",
        "    while True:\n",
        "        print(\"Menu:\")\n",
        "        print(\"1. Hexagon\")\n",
        "        print(\"2. Square\")\n",
        "        print(\"Any other key to exit\")\n",
        "\n",
        "        choice = input(\"Enter your choice: \")\n",
        "\n",
        "        if choice == '1':\n",
        "            display_hexagon(hexagon_side_length)\n",
        "        elif choice == '2':\n",
        "            display_square(square_side_length)\n",
        "        else:\n",
        "            print(\"Program terminated.\")\n",
        "            break\n",
        "\n",
        "if __name__ == \"__main__\":\n",
        "    main()\n"
      ]
    }
  ]
}